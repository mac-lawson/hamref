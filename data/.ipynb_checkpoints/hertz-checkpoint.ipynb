{
 "cells": [
  {
   "cell_type": "code",
   "execution_count": null,
   "id": "afc15ffb-9cde-47cf-8127-6aa0ef1b54df",
   "metadata": {},
   "outputs": [],
   "source": [
    "import matplotlib.pyplot as plt\n",
    "import numpy as np\n",
    "\n",
    "# Set up the wavelength range\n",
    "wavelength = np.linspace(400e-9, 700e-9, 100)\n",
    "\n",
    "# Calculate the frequency for each wavelength\n",
    "speed_of_light = 299792458 # m/s\n",
    "frequency = speed_of_light / wavelength\n",
    "\n",
    "# Create the plot\n",
    "plt.plot(wavelength, frequency)\n",
    "plt.xlabel('Wavelength (m)')\n",
    "plt.ylabel('Frequency (Hz)')\n",
    "plt.title('Frequency vs. Wavelength')\n",
    "plt.show()\n"
   ]
  }
 ],
 "metadata": {
  "kernelspec": {
   "display_name": "Python 3 (ipykernel)",
   "language": "python",
   "name": "python3"
  },
  "language_info": {
   "codemirror_mode": {
    "name": "ipython",
    "version": 3
   },
   "file_extension": ".py",
   "mimetype": "text/x-python",
   "name": "python",
   "nbconvert_exporter": "python",
   "pygments_lexer": "ipython3",
   "version": "3.10.2"
  }
 },
 "nbformat": 4,
 "nbformat_minor": 5
}
